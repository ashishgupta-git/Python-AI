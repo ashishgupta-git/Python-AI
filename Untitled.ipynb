{
 "cells": [
  {
   "cell_type": "code",
   "execution_count": 8,
   "id": "2a322a2e",
   "metadata": {},
   "outputs": [
    {
     "name": "stdout",
     "output_type": "stream",
     "text": [
      "{'brand': 'Ashish', 'model': 'New', 'year': 2002}\n"
     ]
    },
    {
     "data": {
      "text/plain": [
       "dict"
      ]
     },
     "execution_count": 8,
     "metadata": {},
     "output_type": "execute_result"
    }
   ],
   "source": [
    "mydic ={\n",
    "\n",
    "  \"brand\": \"Ashish\",\n",
    "\n",
    "  \"model\": \"New\",\n",
    "\n",
    "  \"year\": 2002\n",
    "\n",
    "}\n",
    "\n",
    "\n",
    "print(mydic)\n",
    "type(mydic)\n"
   ]
  },
  {
   "cell_type": "code",
   "execution_count": null,
   "id": "d6ac93b7",
   "metadata": {},
   "outputs": [],
   "source": []
  }
 ],
 "metadata": {
  "kernelspec": {
   "display_name": "Python 3 (ipykernel)",
   "language": "python",
   "name": "python3"
  },
  "language_info": {
   "codemirror_mode": {
    "name": "ipython",
    "version": 3
   },
   "file_extension": ".py",
   "mimetype": "text/x-python",
   "name": "python",
   "nbconvert_exporter": "python",
   "pygments_lexer": "ipython3",
   "version": "3.11.4"
  }
 },
 "nbformat": 4,
 "nbformat_minor": 5
}
